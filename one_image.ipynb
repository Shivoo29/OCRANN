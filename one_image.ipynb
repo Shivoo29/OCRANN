{
 "cells": [
  {
   "cell_type": "code",
   "execution_count": null,
   "metadata": {},
   "outputs": [],
   "source": [
    "import numpy as np\n",
    "import pandas as pd\n",
    "import PIL as pl\n",
    "import cv2 as cv\n",
    "import pytesseract as ts\n",
    "import matplotlib as plt"
   ]
  },
  {
   "cell_type": "code",
   "execution_count": null,
   "metadata": {},
   "outputs": [],
   "source": [
    "img_pl = pl.Image.open('images/6005121460_6_page_1.png')\n",
    "img_pl"
   ]
  },
  {
   "cell_type": "code",
   "execution_count": null,
   "metadata": {},
   "outputs": [],
   "source": [
    "img_cv = cv.imread('images/6005121460_6_page_1.png')  \n",
    "cv.imshow('Identity Card', img_cv)\n",
    "cv.waitKey(5000)  # Wait for 5 seconds\n",
    "cv.destroyAllWindows()\n",
    "print(type(img_cv)) "
   ]
  },
  {
   "cell_type": "code",
   "execution_count": null,
   "metadata": {},
   "outputs": [],
   "source": [
    "print(type(img_pl))  \n",
    "\n"
   ]
  },
  {
   "cell_type": "code",
   "execution_count": null,
   "metadata": {},
   "outputs": [],
   "source": [
    "text_pl = ts.image_to_string(img_pl)\n",
    "print(text_pl)"
   ]
  },
  {
   "cell_type": "code",
   "execution_count": null,
   "metadata": {},
   "outputs": [],
   "source": [
    "data = ts.image_to_data(img_pl)"
   ]
  },
  {
   "cell_type": "code",
   "execution_count": null,
   "metadata": {},
   "outputs": [],
   "source": [
    "dataList = list(map(lambda x: x.split('\\t'),data.split('\\n')))"
   ]
  },
  {
   "cell_type": "code",
   "execution_count": null,
   "metadata": {},
   "outputs": [],
   "source": [
    "df = pd.DataFrame(dataList[1:],columns=dataList[0])"
   ]
  },
  {
   "cell_type": "code",
   "execution_count": null,
   "metadata": {},
   "outputs": [],
   "source": [
    "df.info()"
   ]
  },
  {
   "cell_type": "code",
   "execution_count": null,
   "metadata": {},
   "outputs": [],
   "source": [
    "df.head(10)"
   ]
  },
  {
   "cell_type": "code",
   "execution_count": null,
   "metadata": {},
   "outputs": [],
   "source": [
    "# Drop empty values and rows\n",
    "df.dropna(inplace=True)\n",
    "\n",
    "# Define columns with number values\n",
    "col_int = ['level', 'page_num', 'block_num', 'par_num', 'line_num', 'word_num', 'left', 'top', 'width', 'height', 'conf']\n",
    "\n",
    "# Round the 'conf' column to handle floating-point values\n",
    "df['conf'] = df['conf'].astype(float).round()\n",
    "\n",
    "# Change all columns with number values to type int\n",
    "df[col_int] = df[col_int].astype(int)\n",
    "\n",
    "# Verify the changes\n",
    "print(df.dtypes)\n"
   ]
  },
  {
   "cell_type": "code",
   "execution_count": null,
   "metadata": {},
   "outputs": [],
   "source": [
    "image = img_cv.copy()\n",
    "level = 'word'\n",
    "\n",
    "for l,x,y,w,h,c,t in df[['level','left','top','width','height','conf','text']].values:\n",
    "    if level == 'page' and l == 1:\n",
    "        cv.rectangle(image,(x,y),(x+w,y+h),(0,0,0),2)\n",
    "    elif level == 'block' and l == 2:\n",
    "        cv.rectangle(image,(x,y),(x+w,y+h),(255,0,0),1)\n",
    "    elif level == 'paragraph' and l == 3:\n",
    "        cv.rectangle(image,(x,y),(x+w,y+h),(0,255,0),1)\n",
    "    elif level == 'line' and l == 4:\n",
    "        cv.rectangle(image,(x,y),(x+w,y+h),(255,0,51),1)\n",
    "    elif level == 'word' and l == 5:\n",
    "        cv.rectangle(image,(x,y),(x+w,y+h),(0,0,255),1)\n",
    "        cv.putText(image,t,(x,y),cv.FONT_HERSHEY_COMPLEX_SMALL,1,(255,255,255),1)\n",
    "\n",
    "# Save the image with bounding boxes\n",
    "cv.imwrite(\"../Bounding_Box/output_with_bounding_boxes.png\", image)\n",
    "\n",
    "# Optionally, you can still display the image\n",
    "cv.imshow(\"bounding box\",image)\n",
    "cv.waitKey(5000)  # Wait until a key is pressed\n",
    "cv.destroyAllWindows()"
   ]
  }
 ],
 "metadata": {
  "kernelspec": {
   "display_name": "Python 3",
   "language": "python",
   "name": "python3"
  },
  "language_info": {
   "codemirror_mode": {
    "name": "ipython",
    "version": 3
   },
   "file_extension": ".py",
   "mimetype": "text/x-python",
   "name": "python",
   "nbconvert_exporter": "python",
   "pygments_lexer": "ipython3",
   "version": "3.12.2"
  }
 },
 "nbformat": 4,
 "nbformat_minor": 2
}

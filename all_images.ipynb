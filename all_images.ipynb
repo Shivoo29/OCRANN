{
 "cells": [
  {
   "cell_type": "code",
   "execution_count": 1,
   "metadata": {},
   "outputs": [],
   "source": [
    "import numpy as np\n",
    "import pandas as pd\n",
    "import cv2 as cv\n",
    "import pytesseract as ts\n",
    "\n",
    "import os\n",
    "from glob import glob\n",
    "from tqdm import tqdm\n",
    "\n",
    "import warnings\n",
    "warnings.filterwarnings('ignore')\n",
    "\n",
    "imgPaths = glob('images/*.png')"
   ]
  },
  {
   "cell_type": "code",
   "execution_count": 2,
   "metadata": {},
   "outputs": [],
   "source": [
    "imgPath = imgPaths[0]\n",
    "_, filename = os.path.split(imgPath)"
   ]
  },
  {
   "cell_type": "code",
   "execution_count": 3,
   "metadata": {},
   "outputs": [],
   "source": [
    "image = cv.imread(imgPath)\n",
    "data = ts.image_to_data(image)\n",
    "\n",
    "dataList = list(map(lambda x: x.split('\\t'),data.split('\\n')))\n",
    "df = pd.DataFrame(dataList[1:], columns=dataList[0])"
   ]
  },
  {
   "cell_type": "code",
   "execution_count": 5,
   "metadata": {},
   "outputs": [],
   "source": [
    "df.dropna(inplace=True)\n",
    "\n",
    "# Convert 'conf' to numeric, coercing errors to NaN\n",
    "df['conf'] = pd.to_numeric(df['conf'], errors='coerce')\n",
    "\n",
    "# Drop rows where 'conf' is NaN\n",
    "df.dropna(subset=['conf'], inplace=True)\n",
    "\n",
    "# Convert 'conf' to integer\n",
    "df['conf'] = df['conf'].astype(int)\n",
    "\n",
    "# Query the DataFrame\n",
    "textData = df.query('conf >= 30')\n",
    "\n",
    "# Create a new DataFrame with the required columns\n",
    "IdentityCard = pd.DataFrame()\n",
    "IdentityCard['text'] = textData['text']\n",
    "IdentityCard['id'] = filename  # Ensure 'filename' is defined somewhere in your code"
   ]
  },
  {
   "cell_type": "code",
   "execution_count": 10,
   "metadata": {},
   "outputs": [
    {
     "name": "stdout",
     "output_type": "stream",
     "text": [
      "Num GPUs Available:  0\n"
     ]
    }
   ],
   "source": [
    "import tensorflow as tf\n",
    "\n",
    "print(\"Num GPUs Available: \", len(tf.config.list_physical_devices('GPU')))\n"
   ]
  },
  {
   "cell_type": "code",
   "execution_count": 11,
   "metadata": {},
   "outputs": [
    {
     "name": "stderr",
     "output_type": "stream",
     "text": [
      "Identity Card: 100%|██████████| 68/68 [01:14<00:00,  1.10s/it]\n"
     ]
    }
   ],
   "source": [
    "allIdentityCards = pd.DataFrame(columns=['id', 'text'])\n",
    "\n",
    "for imgPath in tqdm(imgPaths, desc=\"Identity Card\"):\n",
    "\n",
    "    # Get Filenames\n",
    "    _, filename = os.path.split(imgPath)\n",
    "    \n",
    "    # Extract Data\n",
    "    image = cv.imread(imgPath)\n",
    "    data = ts.image_to_data(image)\n",
    "    \n",
    "    # Write Data to Frame\n",
    "    dataList = list(map(lambda x: x.split('\\t'), data.split('\\n')))\n",
    "    df = pd.DataFrame(dataList[1:], columns=dataList[0])\n",
    "    \n",
    "    # Drop Everything that is not useful\n",
    "    df.dropna(inplace=True)\n",
    "    \n",
    "    # Convert 'conf' to numeric, coercing errors to NaN\n",
    "    df['conf'] = pd.to_numeric(df['conf'], errors='coerce')\n",
    "    \n",
    "    # Drop rows where 'conf' is NaN\n",
    "    df.dropna(subset=['conf'], inplace=True)\n",
    "    \n",
    "    # Convert 'conf' to integer\n",
    "    df['conf'] = df['conf'].astype(int)\n",
    "    \n",
    "    # Filter rows based on 'conf' value\n",
    "    textData = df.query('conf >= 30')\n",
    "    \n",
    "    # Define an Identity Card Entity\n",
    "    IdentityCard = pd.DataFrame()\n",
    "    IdentityCard['text'] = textData['text']\n",
    "    IdentityCard['id'] = filename\n",
    "    \n",
    "    # Add Card to All Cards\n",
    "    allIdentityCards = pd.concat((allIdentityCards, IdentityCard), ignore_index=True)"
   ]
  },
  {
   "cell_type": "code",
   "execution_count": 12,
   "metadata": {},
   "outputs": [],
   "source": [
    "allIdentityCards.to_csv('IdentityCards.csv', index=False)"
   ]
  }
 ],
 "metadata": {
  "kernelspec": {
   "display_name": "base",
   "language": "python",
   "name": "python3"
  },
  "language_info": {
   "codemirror_mode": {
    "name": "ipython",
    "version": 3
   },
   "file_extension": ".py",
   "mimetype": "text/x-python",
   "name": "python",
   "nbconvert_exporter": "python",
   "pygments_lexer": "ipython3",
   "version": "3.12.2"
  }
 },
 "nbformat": 4,
 "nbformat_minor": 2
}
